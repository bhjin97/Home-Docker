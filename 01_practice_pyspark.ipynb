{
 "cells": [
  {
   "cell_type": "code",
   "execution_count": 2,
   "id": "b9d80510-1fa1-46ad-b922-9610c36e4085",
   "metadata": {},
   "outputs": [
    {
     "name": "stdout",
     "output_type": "stream",
     "text": [
      "hello\n"
     ]
    }
   ],
   "source": [
    "print('hello')"
   ]
  },
  {
   "cell_type": "code",
   "execution_count": 3,
   "id": "f86dc98f-635e-46c5-913c-f5afc3ba8761",
   "metadata": {},
   "outputs": [
    {
     "name": "stdout",
     "output_type": "stream",
     "text": [
      "/opt/conda/bin/python\n"
     ]
    }
   ],
   "source": [
    "!which python"
   ]
  },
  {
   "cell_type": "code",
   "execution_count": 4,
   "id": "badededa-18f9-4047-9751-44300a34e76f",
   "metadata": {},
   "outputs": [
    {
     "data": {
      "text/plain": [
       "'/usr/local/spark'"
      ]
     },
     "execution_count": 4,
     "metadata": {},
     "output_type": "execute_result"
    }
   ],
   "source": [
    "import os\n",
    "os.environ.get('SPARK_HOME')"
   ]
  },
  {
   "cell_type": "code",
   "execution_count": 5,
   "id": "aa1ea247-b64a-4b12-8e18-4271c22b9de2",
   "metadata": {},
   "outputs": [],
   "source": [
    "import pyspark\n",
    "from pyspark.sql import SparkSession"
   ]
  },
  {
   "cell_type": "code",
   "execution_count": 7,
   "id": "d392ddcc-f631-41ad-a471-e3b9554293db",
   "metadata": {},
   "outputs": [],
   "source": [
    "spark = SparkSession.builder.appName('pyspark_ex').getOrCreate()"
   ]
  },
  {
   "cell_type": "code",
   "execution_count": 8,
   "id": "99ec540d-7171-4217-a68c-be3869b42162",
   "metadata": {},
   "outputs": [
    {
     "data": {
      "text/html": [
       "\n",
       "            <div>\n",
       "                <p><b>SparkSession - in-memory</b></p>\n",
       "                \n",
       "        <div>\n",
       "            <p><b>SparkContext</b></p>\n",
       "\n",
       "            <p><a href=\"http://dcf1c2828775:4040\">Spark UI</a></p>\n",
       "\n",
       "            <dl>\n",
       "              <dt>Version</dt>\n",
       "                <dd><code>v3.5.0</code></dd>\n",
       "              <dt>Master</dt>\n",
       "                <dd><code>local[*]</code></dd>\n",
       "              <dt>AppName</dt>\n",
       "                <dd><code>pyspark_ex</code></dd>\n",
       "            </dl>\n",
       "        </div>\n",
       "        \n",
       "            </div>\n",
       "        "
      ],
      "text/plain": [
       "<pyspark.sql.session.SparkSession at 0x7f7310364350>"
      ]
     },
     "execution_count": 8,
     "metadata": {},
     "output_type": "execute_result"
    }
   ],
   "source": [
    "spark"
   ]
  },
  {
   "cell_type": "markdown",
   "id": "6bf68b8d-a014-4269-a233-664a2474d8aa",
   "metadata": {},
   "source": [
    "# DataFrame build"
   ]
  },
  {
   "cell_type": "code",
   "execution_count": 9,
   "id": "8c333366-1391-42f9-b510-6c15e2eacd3c",
   "metadata": {},
   "outputs": [
    {
     "data": {
      "text/plain": [
       "DataFrame[Name: string, Value: bigint]"
      ]
     },
     "execution_count": 9,
     "metadata": {},
     "output_type": "execute_result"
    }
   ],
   "source": [
    "data = [('Alice',1),('Bob',2),('Charlie',3)]\n",
    "# DataFrame 객체(부산객체)를 생성 <> 판다스의 데이터프레임이 아님\n",
    "data1 = spark.createDataFrame(data, ['Name','Value'])\n",
    "data1"
   ]
  },
  {
   "cell_type": "code",
   "execution_count": 10,
   "id": "0baafc16-ec90-48f8-a66c-6e5cb2a7dfd6",
   "metadata": {},
   "outputs": [
    {
     "data": {
      "text/plain": [
       "Column<'Name'>"
      ]
     },
     "execution_count": 10,
     "metadata": {},
     "output_type": "execute_result"
    }
   ],
   "source": [
    "data1[0]"
   ]
  },
  {
   "cell_type": "code",
   "execution_count": 12,
   "id": "065d6bb1-26d0-4043-ab54-a60084b62765",
   "metadata": {},
   "outputs": [
    {
     "name": "stdout",
     "output_type": "stream",
     "text": [
      "+-------+-----+\n",
      "|   Name|Value|\n",
      "+-------+-----+\n",
      "|  Alice|    1|\n",
      "|    Bob|    2|\n",
      "|Charlie|    3|\n",
      "+-------+-----+\n",
      "\n"
     ]
    }
   ],
   "source": [
    "data1.show()"
   ]
  },
  {
   "cell_type": "markdown",
   "id": "91df4c46-78b7-4d12-b057-a9523553ec1d",
   "metadata": {},
   "source": [
    "## dataframe filter"
   ]
  },
  {
   "cell_type": "code",
   "execution_count": 19,
   "id": "b57b4846-0f68-4784-8874-d49d8871be0f",
   "metadata": {},
   "outputs": [
    {
     "name": "stdout",
     "output_type": "stream",
     "text": [
      "+-----+-----+\n",
      "| Name|Value|\n",
      "+-----+-----+\n",
      "|Alice|    1|\n",
      "+-----+-----+\n",
      "\n"
     ]
    }
   ],
   "source": [
    "data1.filter(data1.Name == 'Alice').show()"
   ]
  },
  {
   "cell_type": "code",
   "execution_count": 21,
   "id": "29e01da7-64a1-49d8-8545-490c272d6d75",
   "metadata": {},
   "outputs": [
    {
     "name": "stdout",
     "output_type": "stream",
     "text": [
      "+----+-----+\n",
      "|Name|Value|\n",
      "+----+-----+\n",
      "| Bob|    2|\n",
      "+----+-----+\n",
      "\n"
     ]
    }
   ],
   "source": [
    "data1.filter(data1.Value == 2).show()"
   ]
  },
  {
   "cell_type": "markdown",
   "id": "52edc0a8-835e-48a8-95e6-3c3fa4e55875",
   "metadata": {},
   "source": [
    "## spark - sql"
   ]
  },
  {
   "cell_type": "code",
   "execution_count": 22,
   "id": "a655ab3f-33cf-40e2-b9b4-19c11e5346b6",
   "metadata": {},
   "outputs": [
    {
     "name": "stdout",
     "output_type": "stream",
     "text": [
      "+-------+-----+\n",
      "|   Name|Value|\n",
      "+-------+-----+\n",
      "|  Alice|    1|\n",
      "|    Bob|    2|\n",
      "|Charlie|    3|\n",
      "+-------+-----+\n",
      "\n"
     ]
    }
   ],
   "source": [
    "data1.createOrReplaceTempView('students')\n",
    "spark.sql('SELECT * FROM students').show()"
   ]
  },
  {
   "cell_type": "code",
   "execution_count": 23,
   "id": "91970da7-2ee6-441f-bf22-35db6b2ccc41",
   "metadata": {},
   "outputs": [
    {
     "name": "stdout",
     "output_type": "stream",
     "text": [
      "+-------+-----+\n",
      "|   Name|Value|\n",
      "+-------+-----+\n",
      "|Charlie|    3|\n",
      "+-------+-----+\n",
      "\n"
     ]
    }
   ],
   "source": [
    "spark.sql('SELECT * FROM students WHERE Value > 2').show()"
   ]
  },
  {
   "cell_type": "markdown",
   "id": "deb28cc0-6bae-48b3-8f4d-1afb047267eb",
   "metadata": {},
   "source": [
    "# RDD build"
   ]
  },
  {
   "cell_type": "code",
   "execution_count": 15,
   "id": "89745ff4-b0fa-42f7-afd3-3e6d74550233",
   "metadata": {},
   "outputs": [
    {
     "data": {
      "text/plain": [
       "[1, 2, 3, 4, 5]"
      ]
     },
     "execution_count": 15,
     "metadata": {},
     "output_type": "execute_result"
    }
   ],
   "source": [
    "rdd = spark.sparkContext.parallelize([1,2,3,4,5])\n",
    "rdd.collect()"
   ]
  },
  {
   "cell_type": "code",
   "execution_count": 18,
   "id": "d36612bc-7222-4ea0-bc7e-fca941b5f7bf",
   "metadata": {},
   "outputs": [
    {
     "data": {
      "text/plain": [
       "[1, 4, 9]"
      ]
     },
     "execution_count": 18,
     "metadata": {},
     "output_type": "execute_result"
    }
   ],
   "source": [
    "sq_rdd = rdd.map(lambda x:x*x)\n",
    "sq_rdd.take(3)"
   ]
  },
  {
   "cell_type": "markdown",
   "id": "1250af70-6bb9-4bc0-bc87-769d9db86451",
   "metadata": {},
   "source": [
    "# Machine Learning Library"
   ]
  },
  {
   "cell_type": "code",
   "execution_count": 24,
   "id": "d3a5ceae-e1f3-4a3d-b1a4-c08776cdd08c",
   "metadata": {},
   "outputs": [],
   "source": [
    "from pyspark.ml.regression import LinearRegression\n",
    "from pyspark.ml.feature import VectorAssembler"
   ]
  },
  {
   "cell_type": "code",
   "execution_count": 25,
   "id": "4f514cbb-4970-4142-b449-635ac6033c1b",
   "metadata": {},
   "outputs": [
    {
     "data": {
      "text/plain": [
       "DataFrame[Name: string, Age: bigint]"
      ]
     },
     "execution_count": 25,
     "metadata": {},
     "output_type": "execute_result"
    }
   ],
   "source": [
    "data_ = [('Alice',25),('Bob',30),('Charlie',33)]\n",
    "data2 = spark.createDataFrame(data_, ['Name', 'Age'])\n",
    "data2"
   ]
  },
  {
   "cell_type": "code",
   "execution_count": 32,
   "id": "888be1ab-f978-490f-abf8-2fe5d14a5cd5",
   "metadata": {},
   "outputs": [
    {
     "name": "stdout",
     "output_type": "stream",
     "text": [
      "+-------+---+--------+-----------------+\n",
      "|   Name|Age|features|       prediction|\n",
      "+-------+---+--------+-----------------+\n",
      "|  Alice| 25|  [25.0]|24.99999999999993|\n",
      "|    Bob| 30|  [30.0]|30.00000000000001|\n",
      "|Charlie| 33|  [33.0]|33.00000000000006|\n",
      "+-------+---+--------+-----------------+\n",
      "\n"
     ]
    }
   ],
   "source": [
    "assembler = VectorAssembler(inputCols= ['Age'], outputCol = 'features')\n",
    "vector_df = assembler.transform(data2)\n",
    "lr =LinearRegression(featuresCol = 'features', labelCol = 'Age')\n",
    "model = lr.fit(vector_df)\n",
    "pred = model.transform(vector_df)\n",
    "pred.show()"
   ]
  },
  {
   "cell_type": "code",
   "execution_count": 33,
   "id": "2a967181-22df-428f-852d-ad1308257211",
   "metadata": {},
   "outputs": [
    {
     "name": "stdout",
     "output_type": "stream",
     "text": [
      "[1.000000000000016]\n"
     ]
    }
   ],
   "source": [
    "print(model.coefficients)"
   ]
  },
  {
   "cell_type": "code",
   "execution_count": 34,
   "id": "6b7481fb-c6a3-4afa-a017-3a1682b17e86",
   "metadata": {},
   "outputs": [],
   "source": [
    "spark.stop()"
   ]
  },
  {
   "cell_type": "markdown",
   "id": "8424d883-a8ad-45a1-91ca-ae4179606714",
   "metadata": {},
   "source": [
    "# Streaming"
   ]
  },
  {
   "cell_type": "code",
   "execution_count": null,
   "id": "a8a2f56e-33dd-43cb-a235-d6f96784cc03",
   "metadata": {},
   "outputs": [],
   "source": [
    "from pyspark.sql.functions import explode\n",
    "from pyspark.sql.functions import split"
   ]
  },
  {
   "cell_type": "code",
   "execution_count": null,
   "id": "6b8dc675-fcfe-445e-b0e0-a765233c920b",
   "metadata": {},
   "outputs": [],
   "source": [
    "#lines는 스트리밍에서 읽어온 데이터 객체\n",
    "lines = spark.readStream.format(\"socket\")\\ # 스트리밍 소스는 tcp소켓방식\n",
    "    .option('host', 'loclahost')\\ # 데이터를 수신할 호스트는 로컬호스트\n",
    "    .option('port', 9999).load() # 데이터를 수신할 포트번호\n",
    "\n",
    "# streaming data를 로드\n",
    "words = lines.select(explode(split(lines.value, '')).alias('word'))\n",
    "# lines.value: 소켓에서 받은 한 줄의 텍스트 (string)\n",
    "# split(lines.value, ''): 한 줄의 텍스트를 한 글자씩 나눔 → 리스트 형태\n",
    "# explode(...): 리스트의 각 원소를 각 행(row) 으로 펼침\n",
    "# .alias('word'): 컬럼 이름을 word로 지정"
   ]
  }
 ],
 "metadata": {
  "kernelspec": {
   "display_name": "Python 3 (ipykernel)",
   "language": "python",
   "name": "python3"
  },
  "language_info": {
   "codemirror_mode": {
    "name": "ipython",
    "version": 3
   },
   "file_extension": ".py",
   "mimetype": "text/x-python",
   "name": "python",
   "nbconvert_exporter": "python",
   "pygments_lexer": "ipython3",
   "version": "3.11.6"
  }
 },
 "nbformat": 4,
 "nbformat_minor": 5
}
