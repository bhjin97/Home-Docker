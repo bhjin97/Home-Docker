{
 "cells": [
  {
   "cell_type": "markdown",
   "id": "d227ffbe-2d4f-49d1-9f40-e6186634370d",
   "metadata": {},
   "source": [
    "# 1. 라이브러리 불러오기"
   ]
  },
  {
   "cell_type": "code",
   "execution_count": 3,
   "id": "44b4f2ee-3c26-40f9-af0f-640b0b82dfc4",
   "metadata": {
    "jupyter": {
     "source_hidden": true
    }
   },
   "outputs": [],
   "source": [
    "from pyspark.ml.feature import (\n",
    "    StringIndexer,        # 범주형 → 수치형 인코딩\n",
    "    OneHotEncoder,        # 원-핫 인코딩\n",
    "    VectorAssembler,      # 여러 컬럼 → 하나의 feature 벡터\n",
    "    StandardScaler,       # 표준 정규화\n",
    "    MinMaxScaler,         # 최소/최대 스케일링\n",
    "    Bucketizer,           # 연속형 변수 → 구간화\n",
    "    QuantileDiscretizer,  # 분위수 기반 구간화\n",
    "    PCA,                  # 주성분 분석\n",
    "    PolynomialExpansion,  # 다항 특성 생성\n",
    "    ChiSqSelector         # 카이제곱 기반 피처 선택\n",
    ")\n",
    "from pyspark.ml.classification import (\n",
    "    LogisticRegression,\n",
    "    DecisionTreeClassifier,\n",
    "    RandomForestClassifier,\n",
    "    GBTClassifier,\n",
    "    NaiveBayes,\n",
    "    MultilayerPerceptronClassifier\n",
    ")\n",
    "\n",
    "from pyspark.ml.regression import (\n",
    "    LinearRegression,\n",
    "    DecisionTreeRegressor,\n",
    "    RandomForestRegressor,\n",
    "    GBTRegressor\n",
    ")\n",
    "from pyspark.ml.clustering import (\n",
    "    KMeans,\n",
    "    GaussianMixture,\n",
    "    BisectingKMeans,\n",
    "    LDA  # Latent Dirichlet Allocation (토픽 모델링)\n",
    ")\n",
    "from pyspark.ml.evaluation import (\n",
    "    BinaryClassificationEvaluator,\n",
    "    MulticlassClassificationEvaluator,\n",
    "    RegressionEvaluator,\n",
    "    ClusteringEvaluator\n",
    ")\n",
    "from pyspark.ml import Pipeline  # 전체 파이프라인 구성\n",
    "\n",
    "from pyspark.ml.tuning import (   # 모델 튜닝\n",
    "    ParamGridBuilder,\n",
    "    CrossValidator,\n",
    "    TrainValidationSplit\n",
    ")\n",
    "from pyspark.ml.linalg import Vectors, DenseVector, SparseVector  # 벡터 수동 생성\n",
    "from pyspark.ml.stat import Correlation, ChiSquareTest            # 통계 테스트\n",
    "from pyspark.sql import SparkSession\n",
    "import os"
   ]
  },
  {
   "cell_type": "markdown",
   "id": "b81d1507-15f1-4cac-8fdf-47286d18878b",
   "metadata": {},
   "source": [
    "# SparkSession"
   ]
  },
  {
   "cell_type": "code",
   "execution_count": 4,
   "id": "aa7a0522-f17b-4ba2-bca9-43386d215b8c",
   "metadata": {},
   "outputs": [
    {
     "data": {
      "text/html": [
       "\n",
       "            <div>\n",
       "                <p><b>SparkSession - in-memory</b></p>\n",
       "                \n",
       "        <div>\n",
       "            <p><b>SparkContext</b></p>\n",
       "\n",
       "            <p><a href=\"http://f18d7e0e3beb:4040\">Spark UI</a></p>\n",
       "\n",
       "            <dl>\n",
       "              <dt>Version</dt>\n",
       "                <dd><code>v3.5.0</code></dd>\n",
       "              <dt>Master</dt>\n",
       "                <dd><code>local[*]</code></dd>\n",
       "              <dt>AppName</dt>\n",
       "                <dd><code>minecraft</code></dd>\n",
       "            </dl>\n",
       "        </div>\n",
       "        \n",
       "            </div>\n",
       "        "
      ],
      "text/plain": [
       "<pyspark.sql.session.SparkSession at 0x7f6fbe292790>"
      ]
     },
     "execution_count": 4,
     "metadata": {},
     "output_type": "execute_result"
    }
   ],
   "source": [
    "spark = SparkSession.builder.appName('minecraft').getOrCreate()\n",
    "spark"
   ]
  },
  {
   "cell_type": "markdown",
   "id": "812c216f-a3f6-4430-b18e-c92c47e2c6b9",
   "metadata": {},
   "source": [
    "# 2. 데이터 불러오기"
   ]
  },
  {
   "cell_type": "code",
   "execution_count": 14,
   "id": "4352c2ed-ff02-4a6b-a98b-3dc508a4b9ea",
   "metadata": {},
   "outputs": [],
   "source": [
    "csv_info = [\n",
    "    (\"Mobs.csv\", \"mob_data\"),\n",
    "    (\"Biomes.csv\", \"bio_data\"),\n",
    "    (\"FaunaGeography.csv\", \"fau_data\"),\n",
    "    (\"Dimensions.csv\", \"dim_data\")\n",
    "]\n",
    "cwd = os.getcwd()\n",
    "\n",
    "for fname, var_name in csv_info:\n",
    "    path = os.path.join(cwd, \"learning_spark_data\", fname)\n",
    "    file_uri = f\"file:///{path.replace(os.sep, '/')}\"\n",
    "    df = spark.read.csv(file_uri, header=True, inferSchema=True)\n",
    "    \n",
    "    # 동적으로 변수 생성\n",
    "    globals()[var_name] = df\n"
   ]
  },
  {
   "cell_type": "markdown",
   "id": "e30f4710-cb31-40e4-b311-e5da8fb2e280",
   "metadata": {},
   "source": [
    "## 데이터 확인"
   ]
  },
  {
   "cell_type": "code",
   "execution_count": 15,
   "id": "1aba7de1-0823-45fd-87b5-60f187c9787b",
   "metadata": {},
   "outputs": [
    {
     "name": "stdout",
     "output_type": "stream",
     "text": [
      "+---+-----------+-------------+---------------+------------+---------+-------------------+----------------+-----------------------+\n",
      "| ID|       name|behaviorTypes|  spawnBehavior|healthPoints|maxDamage|          debutDate|minecraftVersion|reproductiveRequirement|\n",
      "+---+-----------+-------------+---------------+------------+---------+-------------------+----------------+-----------------------+\n",
      "|  1|sniffer_egg|     Peaceful|Player Summoned|           0|        0|2023-06-07 00:00:00|          1.20.0|                   NULL|\n",
      "|  2| turtle_egg|     Peaceful|Player Summoned|           0|        0|2018-07-18 00:00:00|          1.13.0|                   NULL|\n",
      "|  3|        bat|     Peaceful|         Random|           6|     NULL|2012-10-25 00:00:00|           1.4.2|                   NULL|\n",
      "|  4|      blaze|      Hostile|        On Load|          20|        6|2011-11-18 00:00:00|           1.0.0|                   NULL|\n",
      "|  5|    chicken|     Peaceful|         Random|           4|     NULL|2011-11-18 00:00:00|           1.0.0|            Wheat Seeds|\n",
      "+---+-----------+-------------+---------------+------------+---------+-------------------+----------------+-----------------------+\n",
      "only showing top 5 rows\n",
      "\n"
     ]
    }
   ],
   "source": [
    "mob_data.show(5)"
   ]
  },
  {
   "cell_type": "code",
   "execution_count": 16,
   "id": "b7f10352-8f82-4829-9c15-4d7a70a29b64",
   "metadata": {
    "scrolled": true
   },
   "outputs": [
    {
     "name": "stdout",
     "output_type": "stream",
     "text": [
      "+---+-------------+-----------+------------+------------------+----------------+-------------+\n",
      "| ID|         name|dimensionID|treesOrGrass|generateStructures|minecraftVersion|precipitation|\n",
      "+---+-------------+-----------+------------+------------------+----------------+-------------+\n",
      "|  1|     badlands|          1|           1|                 1|           1.7.2|         NULL|\n",
      "|  2|bamboo_jungle|          1|           1|                 1|          1.14.0|         Rain|\n",
      "|  3|basalt_deltas|          2|           0|                 1|          1.16.0|         NULL|\n",
      "+---+-------------+-----------+------------+------------------+----------------+-------------+\n",
      "only showing top 3 rows\n",
      "\n"
     ]
    }
   ],
   "source": [
    "bio_data.show(3)"
   ]
  },
  {
   "cell_type": "code",
   "execution_count": 17,
   "id": "bc5628da-4987-4705-98f5-5809cd3ed9e9",
   "metadata": {},
   "outputs": [
    {
     "name": "stdout",
     "output_type": "stream",
     "text": [
      "+-----+-------+\n",
      "|mobID|biomeID|\n",
      "+-----+-------+\n",
      "|    1|     58|\n",
      "|    2|      4|\n",
      "|    4|      8|\n",
      "+-----+-------+\n",
      "only showing top 3 rows\n",
      "\n"
     ]
    }
   ],
   "source": [
    "fau_data.show(3)"
   ]
  },
  {
   "cell_type": "code",
   "execution_count": 18,
   "id": "2538ce8e-530c-45a0-b6ba-c66c8491df7e",
   "metadata": {},
   "outputs": [
    {
     "name": "stdout",
     "output_type": "stream",
     "text": [
      "+---+---------+-------------------+----------------+\n",
      "| ID|     name|          debutDate|minecraftVersion|\n",
      "+---+---------+-------------------+----------------+\n",
      "|  1|Overworld|2011-11-18 00:00:00|           1.0.0|\n",
      "|  2|   Nether|2011-11-18 00:00:00|           1.0.0|\n",
      "|  3|      End|2011-11-18 00:00:00|           1.0.0|\n",
      "+---+---------+-------------------+----------------+\n",
      "\n"
     ]
    }
   ],
   "source": [
    "dim_data.show(3)"
   ]
  },
  {
   "cell_type": "markdown",
   "id": "b60da49f-81a5-4d35-9875-95a0d65eff48",
   "metadata": {},
   "source": [
    "# 데이터 병합"
   ]
  },
  {
   "cell_type": "code",
   "execution_count": null,
   "id": "ebfc3946-ac1b-4d3f-81da-3a6489e25aaa",
   "metadata": {},
   "outputs": [],
   "source": [
    "final_df = fauna_data \\\n",
    "    .join(mobs_data, fauna_data.mob_id == mobs_data.id, \"left\") \\\n",
    "    .join(biomes_data, fauna_data.biome_id == biomes_data.id, \"left\") \\\n",
    "    .join(dimensions_data, fauna_data.dimension_id == dimensions_data.id, \"left\") \\\n",
    "    .drop(mobs_data.id).drop(biomes_data.id).drop(dimensions_data.id)\n"
   ]
  },
  {
   "cell_type": "markdown",
   "id": "ae63dc1d-106b-4d19-b18d-4519247419d1",
   "metadata": {},
   "source": [
    "# 피쳐 엔지니어링"
   ]
  },
  {
   "cell_type": "markdown",
   "id": "903096b3-48f9-470d-96c9-47c5fdb65daf",
   "metadata": {},
   "source": [
    "# 결측치 처리"
   ]
  },
  {
   "cell_type": "markdown",
   "id": "675e46a8-a31b-4f37-b6d5-824db0f7c8a1",
   "metadata": {},
   "source": [
    "# 데이터 스플릿"
   ]
  },
  {
   "cell_type": "markdown",
   "id": "18130ca7-1d6e-461f-b857-a04a2604da02",
   "metadata": {},
   "source": [
    "# 파이프라인 생성"
   ]
  },
  {
   "cell_type": "markdown",
   "id": "461f9fd2-3ae2-4b90-8a02-23e4ceae9148",
   "metadata": {},
   "source": [
    "## 출현도 인코딩"
   ]
  },
  {
   "cell_type": "markdown",
   "id": "a7c2a7c0-a3ad-41e3-b8fa-f84f98e9b399",
   "metadata": {},
   "source": [
    "## 벡터"
   ]
  },
  {
   "cell_type": "markdown",
   "id": "317b552f-6ff6-4cea-b854-fcf464d5f5ca",
   "metadata": {},
   "source": [
    "# 모델 학습 및 평가"
   ]
  },
  {
   "cell_type": "markdown",
   "id": "40cfc386-4a62-4dae-8b6b-e3f0c93dc437",
   "metadata": {},
   "source": [
    "# 파라미터 최적화"
   ]
  }
 ],
 "metadata": {
  "kernelspec": {
   "display_name": "Python 3 (ipykernel)",
   "language": "python",
   "name": "python3"
  },
  "language_info": {
   "codemirror_mode": {
    "name": "ipython",
    "version": 3
   },
   "file_extension": ".py",
   "mimetype": "text/x-python",
   "name": "python",
   "nbconvert_exporter": "python",
   "pygments_lexer": "ipython3",
   "version": "3.11.6"
  }
 },
 "nbformat": 4,
 "nbformat_minor": 5
}
